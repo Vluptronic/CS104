{
 "cells": [
  {
   "metadata": {},
   "cell_type": "markdown",
   "source": "Q1, Drop the fur_color using pd.drop",
   "id": "98f36cd8e6094fe1"
  },
  {
   "metadata": {
    "collapsed": true,
    "ExecuteTime": {
     "end_time": "2025-01-24T02:02:53.196580Z",
     "start_time": "2025-01-24T02:02:53.185074Z"
    }
   },
   "cell_type": "code",
   "source": [
    "# Import Libraries\n",
    "import numpy as np # numpy\n",
    "import pandas as pd # pandas for datasets"
   ],
   "id": "initial_id",
   "outputs": [],
   "execution_count": 186
  },
  {
   "metadata": {
    "ExecuteTime": {
     "end_time": "2025-01-24T02:02:53.226399Z",
     "start_time": "2025-01-24T02:02:53.220262Z"
    }
   },
   "cell_type": "code",
   "source": "import math",
   "id": "8eb21262ecd4685d",
   "outputs": [],
   "execution_count": 187
  },
  {
   "metadata": {
    "ExecuteTime": {
     "end_time": "2025-01-24T02:02:53.275419Z",
     "start_time": "2025-01-24T02:02:53.235331Z"
    }
   },
   "cell_type": "code",
   "source": [
    "data = {\n",
    "    \"height\": [62, 55, 54, 50],\n",
    "    \"weight\": [55, 44, 50, 48],\n",
    "    \"tail_length\": [12, 2, 3, 5],\n",
    "    \"tail_width\": [2, 3, 2, 4],\n",
    "    \"fur_color\": [\"brown\", \"yellow\", \"brown\", \"yellow\"],\n",
    "    \"species\": [\"dog\", \"cat\", \"dog\", \"cat\"]\n",
    "}\n",
    "\n",
    "Animal_Data = pd.DataFrame(data)\n",
    "Animal_Data=Animal_Data.drop(columns=[\"fur_color\"])\n"
   ],
   "id": "8f2feb934fbdbfd7",
   "outputs": [],
   "execution_count": 188
  },
  {
   "metadata": {
    "ExecuteTime": {
     "end_time": "2025-01-24T02:02:53.293440Z",
     "start_time": "2025-01-24T02:02:53.279181Z"
    }
   },
   "cell_type": "code",
   "source": [
    "target= Animal_Data[\"species\"]\n",
    "data = Animal_Data.loc[:,\"height\":\"tail_width\"]"
   ],
   "id": "9507b33db9874759",
   "outputs": [],
   "execution_count": 189
  },
  {
   "metadata": {
    "ExecuteTime": {
     "end_time": "2025-01-24T02:02:53.308184Z",
     "start_time": "2025-01-24T02:02:53.300552Z"
    }
   },
   "cell_type": "code",
   "source": "target",
   "id": "96502f0e260c4488",
   "outputs": [
    {
     "data": {
      "text/plain": [
       "0    dog\n",
       "1    cat\n",
       "2    dog\n",
       "3    cat\n",
       "Name: species, dtype: object"
      ]
     },
     "execution_count": 190,
     "metadata": {},
     "output_type": "execute_result"
    }
   ],
   "execution_count": 190
  },
  {
   "metadata": {
    "ExecuteTime": {
     "end_time": "2025-01-24T02:02:54.259995Z",
     "start_time": "2025-01-24T02:02:53.980434Z"
    }
   },
   "cell_type": "code",
   "source": "pd.plotting.scatter_matrix(pd.DataFrame(data=data), alpha=0.2)",
   "id": "d291f463242e13c3",
   "outputs": [
    {
     "data": {
      "text/plain": [
       "array([[<Axes: xlabel='height', ylabel='height'>,\n",
       "        <Axes: xlabel='weight', ylabel='height'>,\n",
       "        <Axes: xlabel='tail_length', ylabel='height'>,\n",
       "        <Axes: xlabel='tail_width', ylabel='height'>],\n",
       "       [<Axes: xlabel='height', ylabel='weight'>,\n",
       "        <Axes: xlabel='weight', ylabel='weight'>,\n",
       "        <Axes: xlabel='tail_length', ylabel='weight'>,\n",
       "        <Axes: xlabel='tail_width', ylabel='weight'>],\n",
       "       [<Axes: xlabel='height', ylabel='tail_length'>,\n",
       "        <Axes: xlabel='weight', ylabel='tail_length'>,\n",
       "        <Axes: xlabel='tail_length', ylabel='tail_length'>,\n",
       "        <Axes: xlabel='tail_width', ylabel='tail_length'>],\n",
       "       [<Axes: xlabel='height', ylabel='tail_width'>,\n",
       "        <Axes: xlabel='weight', ylabel='tail_width'>,\n",
       "        <Axes: xlabel='tail_length', ylabel='tail_width'>,\n",
       "        <Axes: xlabel='tail_width', ylabel='tail_width'>]], dtype=object)"
      ]
     },
     "execution_count": 191,
     "metadata": {},
     "output_type": "execute_result"
    },
    {
     "data": {
      "text/plain": [
       "<Figure size 640x480 with 16 Axes>"
      ],
      "image/png": "[encoded data removed]"
     },
     "metadata": {},
     "output_type": "display_data"
    }
   ],
   "execution_count": 191
  },
  {
   "metadata": {
    "ExecuteTime": {
     "end_time": "2025-01-24T02:02:54.316686Z",
     "start_time": "2025-01-24T02:02:54.308662Z"
    }
   },
   "cell_type": "code",
   "source": [
    "\n",
    "# Shuffle the DataFrame rows\n",
    "data = data.sample(frac=1).reset_index(drop=True)\n",
    "\n",
    "# We will use all 4 examples as trainingset"
   ],
   "id": "f9ccf308ce76bbc1",
   "outputs": [],
   "execution_count": 192
  },
  {
   "metadata": {
    "ExecuteTime": {
     "end_time": "2025-01-24T02:02:54.335936Z",
     "start_time": "2025-01-24T02:02:54.331891Z"
    }
   },
   "cell_type": "code",
   "source": "data",
   "id": "86d90058d4d24d24",
   "outputs": [
    {
     "data": {
      "text/plain": [
       "   height  weight  tail_length  tail_width\n",
       "0      54      50            3           2\n",
       "1      55      44            2           3\n",
       "2      50      48            5           4\n",
       "3      62      55           12           2"
      ],
      "text/html": [
       "<div>\n",
       "<style scoped>\n",
       "    .dataframe tbody tr th:only-of-type {\n",
       "        vertical-align: middle;\n",
       "    }\n",
       "\n",
       "    .dataframe tbody tr th {\n",
       "        vertical-align: top;\n",
       "    }\n",
       "\n",
       "    .dataframe thead th {\n",
       "        text-align: right;\n",
       "    }\n",
       "</style>\n",
       "<table border=\"1\" class=\"dataframe\">\n",
       "  <thead>\n",
       "    <tr style=\"text-align: right;\">\n",
       "      <th></th>\n",
       "      <th>height</th>\n",
       "      <th>weight</th>\n",
       "      <th>tail_length</th>\n",
       "      <th>tail_width</th>\n",
       "    </tr>\n",
       "  </thead>\n",
       "  <tbody>\n",
       "    <tr>\n",
       "      <th>0</th>\n",
       "      <td>54</td>\n",
       "      <td>50</td>\n",
       "      <td>3</td>\n",
       "      <td>2</td>\n",
       "    </tr>\n",
       "    <tr>\n",
       "      <th>1</th>\n",
       "      <td>55</td>\n",
       "      <td>44</td>\n",
       "      <td>2</td>\n",
       "      <td>3</td>\n",
       "    </tr>\n",
       "    <tr>\n",
       "      <th>2</th>\n",
       "      <td>50</td>\n",
       "      <td>48</td>\n",
       "      <td>5</td>\n",
       "      <td>4</td>\n",
       "    </tr>\n",
       "    <tr>\n",
       "      <th>3</th>\n",
       "      <td>62</td>\n",
       "      <td>55</td>\n",
       "      <td>12</td>\n",
       "      <td>2</td>\n",
       "    </tr>\n",
       "  </tbody>\n",
       "</table>\n",
       "</div>"
      ]
     },
     "execution_count": 193,
     "metadata": {},
     "output_type": "execute_result"
    }
   ],
   "execution_count": 193
  },
  {
   "metadata": {
    "ExecuteTime": {
     "end_time": "2025-01-24T02:02:54.368966Z",
     "start_time": "2025-01-24T02:02:54.364850Z"
    }
   },
   "cell_type": "code",
   "source": [
    "# As required\n",
    "k = 3\n",
    "testX = pd.DataFrame(\n",
    "    data = {\n",
    "    \"height\": [55],\n",
    "    \"weight\": [57],\n",
    "    \"tail_length\": [8],\n",
    "    \"tail_width\": [5],\n",
    "}\n",
    ")\n",
    "distances = pd.DataFrame(\n",
    "    data = {\n",
    "        \"Distance\":[0,0,0,0]\n",
    "    }\n",
    ")\n",
    "for i in range(0,3):\n",
    "    row = data.iloc[i]\n",
    "    distance = 0\n",
    "    for j in range(0,3):\n",
    "        distance = np.sqrt(np.sum(np.square(row[j] - testX.iloc[0][j])))\n",
    "    distances[\"Distance\"][i] = distance\n"
   ],
   "id": "94463bb596b325ff",
   "outputs": [
    {
     "name": "stderr",
     "output_type": "stream",
     "text": [
      "/var/folders/mj/y3mghvl90p91nkgx8lglzrqw0000gn/T/ipykernel_16794/1548940541.py:20: FutureWarning: Series.__getitem__ treating keys as positions is deprecated. In a future version, integer keys will always be treated as labels (consistent with DataFrame behavior). To access a value by position, use `ser.iloc[pos]`\n",
      "  distance = np.sqrt(np.sum(np.square(row[j] - testX.iloc[0][j])))\n",
      "/var/folders/mj/y3mghvl90p91nkgx8lglzrqw0000gn/T/ipykernel_16794/1548940541.py:21: FutureWarning: ChainedAssignmentError: behaviour will change in pandas 3.0!\n",
      "You are setting values through chained assignment. Currently this works in certain cases, but when using Copy-on-Write (which will become the default behaviour in pandas 3.0) this will never work to update the original DataFrame or Series, because the intermediate object on which we are setting values will behave as a copy.\n",
      "A typical example is when you are setting values in a column of a DataFrame, like:\n",
      "\n",
      "df[\"col\"][row_indexer] = value\n",
      "\n",
      "Use `df.loc[row_indexer, \"col\"] = values` instead, to perform the assignment in a single step and ensure this keeps updating the original `df`.\n",
      "\n",
      "See the caveats in the documentation: https://pandas.pydata.org/pandas-docs/stable/user_guide/indexing.html#returning-a-view-versus-a-copy\n",
      "\n",
      "  distances[\"Distance\"][i] = distance\n"
     ]
    }
   ],
   "execution_count": 194
  },
  {
   "metadata": {
    "ExecuteTime": {
     "end_time": "2025-01-24T02:02:54.399801Z",
     "start_time": "2025-01-24T02:02:54.396612Z"
    }
   },
   "cell_type": "code",
   "source": "distances",
   "id": "bc71e499b1523e28",
   "outputs": [
    {
     "data": {
      "text/plain": [
       "   Distance\n",
       "0         5\n",
       "1         6\n",
       "2         3\n",
       "3         0"
      ],
      "text/html": [
       "<div>\n",
       "<style scoped>\n",
       "    .dataframe tbody tr th:only-of-type {\n",
       "        vertical-align: middle;\n",
       "    }\n",
       "\n",
       "    .dataframe tbody tr th {\n",
       "        vertical-align: top;\n",
       "    }\n",
       "\n",
       "    .dataframe thead th {\n",
       "        text-align: right;\n",
       "    }\n",
       "</style>\n",
       "<table border=\"1\" class=\"dataframe\">\n",
       "  <thead>\n",
       "    <tr style=\"text-align: right;\">\n",
       "      <th></th>\n",
       "      <th>Distance</th>\n",
       "    </tr>\n",
       "  </thead>\n",
       "  <tbody>\n",
       "    <tr>\n",
       "      <th>0</th>\n",
       "      <td>5</td>\n",
       "    </tr>\n",
       "    <tr>\n",
       "      <th>1</th>\n",
       "      <td>6</td>\n",
       "    </tr>\n",
       "    <tr>\n",
       "      <th>2</th>\n",
       "      <td>3</td>\n",
       "    </tr>\n",
       "    <tr>\n",
       "      <th>3</th>\n",
       "      <td>0</td>\n",
       "    </tr>\n",
       "  </tbody>\n",
       "</table>\n",
       "</div>"
      ]
     },
     "execution_count": 195,
     "metadata": {},
     "output_type": "execute_result"
    }
   ],
   "execution_count": 195
  },
  {
   "metadata": {
    "ExecuteTime": {
     "end_time": "2025-01-24T02:02:54.439544Z",
     "start_time": "2025-01-24T02:02:54.437109Z"
    }
   },
   "cell_type": "code",
   "source": "print(distances)",
   "id": "c2f92f664e144fe8",
   "outputs": [
    {
     "name": "stdout",
     "output_type": "stream",
     "text": [
      "   Distance\n",
      "0         5\n",
      "1         6\n",
      "2         3\n",
      "3         0\n"
     ]
    }
   ],
   "execution_count": 196
  },
  {
   "metadata": {
    "ExecuteTime": {
     "end_time": "2025-01-24T02:02:54.469032Z",
     "start_time": "2025-01-24T02:02:54.467Z"
    }
   },
   "cell_type": "code",
   "source": "indices = np.argsort(distances[\"Distance\"][1:])\n",
   "id": "9bf215e8360850af",
   "outputs": [],
   "execution_count": 197
  },
  {
   "metadata": {
    "ExecuteTime": {
     "end_time": "2025-01-24T02:02:54.485957Z",
     "start_time": "2025-01-24T02:02:54.483907Z"
    }
   },
   "cell_type": "code",
   "source": "neighborYs = target[indices]",
   "id": "caeb9f5435f716ce",
   "outputs": [],
   "execution_count": 198
  },
  {
   "metadata": {
    "ExecuteTime": {
     "end_time": "2025-01-24T02:02:54.503793Z",
     "start_time": "2025-01-24T02:02:54.501424Z"
    }
   },
   "cell_type": "code",
   "source": "print(neighborYs)",
   "id": "63346311c916b41d",
   "outputs": [
    {
     "name": "stdout",
     "output_type": "stream",
     "text": [
      "2    dog\n",
      "1    cat\n",
      "0    dog\n",
      "Name: species, dtype: object\n"
     ]
    }
   ],
   "execution_count": 199
  },
  {
   "metadata": {},
   "cell_type": "markdown",
   "source": [
    "Final Guess is 2 because there are 2 dogs and 1 cats in the 3 nearest neighbors\n",
    "\n",
    "Weight is the most important feature because it contributes to distances the most ( Biggest Gap between training and testing data)"
   ],
   "id": "ee1a4a95bb672ae9"
  },
  {
   "metadata": {},
   "cell_type": "markdown",
   "source": "One Hot Encoding for Q2",
   "id": "7b5a81805b3495bc"
  },
  {
   "metadata": {
    "ExecuteTime": {
     "end_time": "2025-01-24T02:02:54.517800Z",
     "start_time": "2025-01-24T02:02:54.515275Z"
    }
   },
   "cell_type": "code",
   "source": [
    "# Use number instead of pandas\n",
    "\n",
    "data = [\n",
    "    [62, 55, 12, 2, 'brown', 'dog'],\n",
    "    [55, 44, 2, 3, 'yellow', 'cat'],\n",
    "    [54, 50, 3, 2, 'brown', 'dog'],\n",
    "    [50, 48, 5, 4, 'yellow', 'cat']\n",
    "]"
   ],
   "id": "7017b579b1b2eaa2",
   "outputs": [],
   "execution_count": 200
  },
  {
   "metadata": {},
   "cell_type": "markdown",
   "source": "x' = \\frac((x - x_min),( x_max-x_min))\n",
   "id": "f1c75aed87819093"
  },
  {
   "metadata": {
    "ExecuteTime": {
     "end_time": "2025-01-24T02:24:27.368298Z",
     "start_time": "2025-01-24T02:24:27.345265Z"
    }
   },
   "cell_type": "code",
   "source": [
    "fur_color_map = {'brown': [1, 0], 'yellow': [0, 1]}\n",
    "species_map = {'dog': [1, 0], 'cat': [0, 1]}\n",
    "\n",
    "X = []\n",
    "y = []\n",
    "for row in data:\n",
    "    numerical_features = row[:4]\n",
    "    fur_color_encoded = fur_color_map[row[4]]\n",
    "    species_encoded = species_map[row[5]]\n",
    "    X.append(numerical_features + fur_color_encoded)\n",
    "    y.append(species_encoded)\n",
    "trainX = np.array(X)\n",
    "trainY = np.array(y)"
   ],
   "id": "5eee88eb0c48bd8b",
   "outputs": [],
   "execution_count": 211
  },
  {
   "metadata": {
    "ExecuteTime": {
     "end_time": "2025-01-24T02:34:13.255606Z",
     "start_time": "2025-01-24T02:34:13.226904Z"
    }
   },
   "cell_type": "code",
   "source": [
    "numerical_features = trainX[:, :4]\n",
    "min_vals = numerical_features.min(axis=0)\n",
    "max_vals = numerical_features.max(axis=0)\n",
    "scaled_numerical_features = (numerical_features - min_vals) / (max_vals - min_vals)\n",
    "\n",
    "# Combine scaled numerical features with encoded categorical data\n",
    "trainX_normalized = np.hstack([scaled_numerical_features, trainX[:, 4:]])\n"
   ],
   "id": "b268399747f7a8d",
   "outputs": [],
   "execution_count": 221
  },
  {
   "metadata": {
    "ExecuteTime": {
     "end_time": "2025-01-24T02:34:24.549479Z",
     "start_time": "2025-01-24T02:34:24.528823Z"
    }
   },
   "cell_type": "code",
   "source": "print(trainX_normalized)",
   "id": "117a7303bf5ff278",
   "outputs": [
    {
     "name": "stdout",
     "output_type": "stream",
     "text": [
      "[[1.         1.         1.         0.         1.         0.        ]\n",
      " [0.41666667 0.         0.         0.5        0.         1.        ]\n",
      " [0.33333333 0.54545455 0.1        0.         1.         0.        ]\n",
      " [0.         0.36363636 0.3        1.         0.         1.        ]]\n"
     ]
    }
   ],
   "execution_count": 223
  },
  {
   "metadata": {
    "ExecuteTime": {
     "end_time": "2025-01-24T02:38:36.339585Z",
     "start_time": "2025-01-24T02:38:36.332585Z"
    }
   },
   "cell_type": "code",
   "source": "testX = np.array([55,57,8,5,0,1])",
   "id": "bacc7be3eff457b9",
   "outputs": [],
   "execution_count": 226
  },
  {
   "metadata": {
    "ExecuteTime": {
     "end_time": "2025-01-24T02:28:58.585554Z",
     "start_time": "2025-01-24T02:28:58.564698Z"
    }
   },
   "cell_type": "code",
   "source": [
    "k=3\n",
    "# 1. calculate distances between test examples and training examples\n",
    "distances = np.zeros((len(trainX), len(testX)))\n",
    "for i in range(len(trainX)):\n",
    "    for j in range(len(testX)):\n",
    "        distances[i,j] = np.sqrt(np.sum(np.square(trainX[i] - testX[j])))\n",
    "\n",
    "# 2. for each data point, select k closest training instances\n"
   ],
   "id": "3ed8830b4f6eba77",
   "outputs": [],
   "execution_count": 218
  },
  {
   "metadata": {
    "ExecuteTime": {
     "end_time": "2025-01-24T02:29:08.767426Z",
     "start_time": "2025-01-24T02:29:08.759797Z"
    }
   },
   "cell_type": "code",
   "source": "print(distances)",
   "id": "7910e644506edbeb",
   "outputs": [
    {
     "name": "stdout",
     "output_type": "stream",
     "text": [
      "[[103.18914672 107.07007051  72.73238618  76.47221718  83.77350416\n",
      "   82.21921916]\n",
      " [107.58717396 111.79892665  60.65476074  63.83572667  70.5336799\n",
      "   69.07242576]\n",
      " [107.14476189 111.28342195  63.67102952  66.93280212  73.68853371\n",
      "   72.22188034]\n",
      " [105.43244282 109.67223897  59.1776985   62.57795139  69.61321714\n",
      "   68.08817812]]\n"
     ]
    }
   ],
   "execution_count": 220
  },
  {
   "metadata": {},
   "cell_type": "code",
   "outputs": [],
   "execution_count": null,
   "source": [
    "\n",
    "for j in range(4):\n",
    "    indices = np.argsort(distances[:,j])[0:k]\n",
    "    neighborYs = trainY[indices]\n",
    "    # Get most common vote https://stackoverflow.com/questions/6252280/find-the-most-frequent-number-in-a-numpy-array\n",
    "    counts = np.bincount(neighborYs)\n"
   ],
   "id": "470a9f8e87628a88"
  },
  {
   "metadata": {
    "ExecuteTime": {
     "end_time": "2025-01-23T22:55:31.547286Z",
     "start_time": "2025-01-23T22:55:28.911934Z"
    }
   },
   "cell_type": "code",
   "source": "!jupyter nbconvert --to html Q1.ipynb",
   "id": "7da6d0e997f88847",
   "outputs": [
    {
     "name": "stdout",
     "output_type": "stream",
     "text": [
      "[NbConvertApp] Converting notebook Q1.ipynb to html\r\n",
      "[NbConvertApp] Writing 629726 bytes to Q1.html\r\n"
     ]
    }
   ],
   "execution_count": 184
  }
 ],
 "metadata": {
  "kernelspec": {
   "display_name": "ML",
   "language": "python",
   "name": "zhanhe"
  },
  "language_info": {
   "codemirror_mode": {
    "name": "ipython",
    "version": 2
   },
   "file_extension": ".py",
   "mimetype": "text/x-python",
   "name": "python",
   "nbconvert_exporter": "python",
   "pygments_lexer": "ipython2",
   "version": "2.7.6"
  }
 },
 "nbformat": 4,
 "nbformat_minor": 5
}
